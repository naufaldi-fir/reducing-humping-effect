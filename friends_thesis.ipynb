{
 "cells": [
  {
   "cell_type": "markdown",
   "metadata": {},
   "source": [
    "## Main Task\n",
    "Use the wave data from Laser device to search the frequence for friend's thesis. "
   ]
  },
  {
   "cell_type": "markdown",
   "metadata": {},
   "source": [
    "schweißen von metallischen Folien.\n",
    "humping terjadi pada kecepatan tinggi\n",
    "Festigkeitverbindung\n",
    "\n",
    "Humping ternyata tak ada hanya ada di laser teknik\n",
    "\n",
    "kenapa frekuensi penting"
   ]
  },
  {
   "cell_type": "markdown",
   "metadata": {},
   "source": [
    "test apakah ada perubahan terdeteksi? ya ternyata sekaranga ada"
   ]
  },
  {
   "cell_type": "code",
   "execution_count": 13,
   "metadata": {
    "executionInfo": {
     "elapsed": 495,
     "status": "ok",
     "timestamp": 1622370586323,
     "user": {
      "displayName": "Naufaldi Firmansyah",
      "photoUrl": "https://lh3.googleusercontent.com/a-/AOh14GhWBxoM-GBbgOnPcuoLLqxnfigbD5bt-5vNTQuN=s64",
      "userId": "02968713243736977198"
     },
     "user_tz": -120
    },
    "id": "rL28Xpk16vBV"
   },
   "outputs": [],
   "source": [
    "import pandas as pd\n",
    "df = pd.read_csv(\"Zeit und Positionen.txt\", delimiter = \"\\t\", skiprows = 4,names = [\"time\",\"x\",\"y\",\"photo current total\",\"photo background total\"], decimal = \",\")"
   ]
  },
  {
   "cell_type": "code",
   "execution_count": 14,
   "metadata": {
    "colab": {
     "base_uri": "https://localhost:8080/",
     "height": 421
    },
    "executionInfo": {
     "elapsed": 16,
     "status": "ok",
     "timestamp": 1622370586326,
     "user": {
      "displayName": "Naufaldi Firmansyah",
      "photoUrl": "https://lh3.googleusercontent.com/a-/AOh14GhWBxoM-GBbgOnPcuoLLqxnfigbD5bt-5vNTQuN=s64",
      "userId": "02968713243736977198"
     },
     "user_tz": -120
    },
    "id": "iK0wzPqbGkl6",
    "outputId": "09698b6d-248f-4d4a-e132-16db6209015e"
   },
   "outputs": [
    {
     "data": {
      "text/html": [
       "<div>\n",
       "<style scoped>\n",
       "    .dataframe tbody tr th:only-of-type {\n",
       "        vertical-align: middle;\n",
       "    }\n",
       "\n",
       "    .dataframe tbody tr th {\n",
       "        vertical-align: top;\n",
       "    }\n",
       "\n",
       "    .dataframe thead th {\n",
       "        text-align: right;\n",
       "    }\n",
       "</style>\n",
       "<table border=\"1\" class=\"dataframe\">\n",
       "  <thead>\n",
       "    <tr style=\"text-align: right;\">\n",
       "      <th></th>\n",
       "      <th>time</th>\n",
       "      <th>x</th>\n",
       "      <th>y</th>\n",
       "      <th>photo current total</th>\n",
       "      <th>photo background total</th>\n",
       "    </tr>\n",
       "  </thead>\n",
       "  <tbody>\n",
       "    <tr>\n",
       "      <th>0</th>\n",
       "      <td>0.000000</td>\n",
       "      <td>-0.232646</td>\n",
       "      <td>-0.076818</td>\n",
       "      <td>5.641261</td>\n",
       "      <td>4.029908</td>\n",
       "    </tr>\n",
       "    <tr>\n",
       "      <th>1</th>\n",
       "      <td>0.000028</td>\n",
       "      <td>-0.225641</td>\n",
       "      <td>-0.033607</td>\n",
       "      <td>5.641261</td>\n",
       "      <td>4.029908</td>\n",
       "    </tr>\n",
       "    <tr>\n",
       "      <th>2</th>\n",
       "      <td>0.000056</td>\n",
       "      <td>-0.253423</td>\n",
       "      <td>-0.054765</td>\n",
       "      <td>5.641261</td>\n",
       "      <td>4.029908</td>\n",
       "    </tr>\n",
       "    <tr>\n",
       "      <th>3</th>\n",
       "      <td>0.000084</td>\n",
       "      <td>-0.236847</td>\n",
       "      <td>-0.072143</td>\n",
       "      <td>5.641261</td>\n",
       "      <td>4.029908</td>\n",
       "    </tr>\n",
       "    <tr>\n",
       "      <th>4</th>\n",
       "      <td>0.000112</td>\n",
       "      <td>-0.218966</td>\n",
       "      <td>-0.030343</td>\n",
       "      <td>5.641261</td>\n",
       "      <td>4.029908</td>\n",
       "    </tr>\n",
       "    <tr>\n",
       "      <th>...</th>\n",
       "      <td>...</td>\n",
       "      <td>...</td>\n",
       "      <td>...</td>\n",
       "      <td>...</td>\n",
       "      <td>...</td>\n",
       "    </tr>\n",
       "    <tr>\n",
       "      <th>84475</th>\n",
       "      <td>2.363610</td>\n",
       "      <td>-0.141008</td>\n",
       "      <td>-0.036715</td>\n",
       "      <td>5.702297</td>\n",
       "      <td>4.029908</td>\n",
       "    </tr>\n",
       "    <tr>\n",
       "      <th>84476</th>\n",
       "      <td>2.363638</td>\n",
       "      <td>-0.123806</td>\n",
       "      <td>-0.043750</td>\n",
       "      <td>5.702297</td>\n",
       "      <td>4.029908</td>\n",
       "    </tr>\n",
       "    <tr>\n",
       "      <th>84477</th>\n",
       "      <td>2.363666</td>\n",
       "      <td>-0.121592</td>\n",
       "      <td>-0.024684</td>\n",
       "      <td>5.702297</td>\n",
       "      <td>4.029908</td>\n",
       "    </tr>\n",
       "    <tr>\n",
       "      <th>84478</th>\n",
       "      <td>2.363694</td>\n",
       "      <td>-0.139744</td>\n",
       "      <td>-0.038643</td>\n",
       "      <td>5.702297</td>\n",
       "      <td>4.029908</td>\n",
       "    </tr>\n",
       "    <tr>\n",
       "      <th>84479</th>\n",
       "      <td>2.363722</td>\n",
       "      <td>-0.117539</td>\n",
       "      <td>-0.030174</td>\n",
       "      <td>5.702297</td>\n",
       "      <td>4.029908</td>\n",
       "    </tr>\n",
       "  </tbody>\n",
       "</table>\n",
       "<p>84480 rows × 5 columns</p>\n",
       "</div>"
      ],
      "text/plain": [
       "           time         x         y  photo current total  \\\n",
       "0      0.000000 -0.232646 -0.076818             5.641261   \n",
       "1      0.000028 -0.225641 -0.033607             5.641261   \n",
       "2      0.000056 -0.253423 -0.054765             5.641261   \n",
       "3      0.000084 -0.236847 -0.072143             5.641261   \n",
       "4      0.000112 -0.218966 -0.030343             5.641261   \n",
       "...         ...       ...       ...                  ...   \n",
       "84475  2.363610 -0.141008 -0.036715             5.702297   \n",
       "84476  2.363638 -0.123806 -0.043750             5.702297   \n",
       "84477  2.363666 -0.121592 -0.024684             5.702297   \n",
       "84478  2.363694 -0.139744 -0.038643             5.702297   \n",
       "84479  2.363722 -0.117539 -0.030174             5.702297   \n",
       "\n",
       "       photo background total  \n",
       "0                    4.029908  \n",
       "1                    4.029908  \n",
       "2                    4.029908  \n",
       "3                    4.029908  \n",
       "4                    4.029908  \n",
       "...                       ...  \n",
       "84475                4.029908  \n",
       "84476                4.029908  \n",
       "84477                4.029908  \n",
       "84478                4.029908  \n",
       "84479                4.029908  \n",
       "\n",
       "[84480 rows x 5 columns]"
      ]
     },
     "execution_count": 14,
     "metadata": {},
     "output_type": "execute_result"
    }
   ],
   "source": [
    "df"
   ]
  },
  {
   "cell_type": "code",
   "execution_count": 15,
   "metadata": {
    "executionInfo": {
     "elapsed": 13,
     "status": "ok",
     "timestamp": 1622370586327,
     "user": {
      "displayName": "Naufaldi Firmansyah",
      "photoUrl": "https://lh3.googleusercontent.com/a-/AOh14GhWBxoM-GBbgOnPcuoLLqxnfigbD5bt-5vNTQuN=s64",
      "userId": "02968713243736977198"
     },
     "user_tz": -120
    },
    "id": "JC_wfIg8HFOo"
   },
   "outputs": [],
   "source": [
    "import matplotlib.pyplot as plt"
   ]
  },
  {
   "cell_type": "code",
   "execution_count": 16,
   "metadata": {
    "colab": {
     "base_uri": "https://localhost:8080/",
     "height": 296
    },
    "executionInfo": {
     "elapsed": 550,
     "status": "ok",
     "timestamp": 1622370586865,
     "user": {
      "displayName": "Naufaldi Firmansyah",
      "photoUrl": "https://lh3.googleusercontent.com/a-/AOh14GhWBxoM-GBbgOnPcuoLLqxnfigbD5bt-5vNTQuN=s64",
      "userId": "02968713243736977198"
     },
     "user_tz": -120
    },
    "id": "mx8lMDHYJh7t",
    "outputId": "7320f4df-a4ad-4ce4-b164-2437500c1d55"
   },
   "outputs": [
    {
     "data": {
      "text/plain": [
       "<AxesSubplot:xlabel='time'>"
      ]
     },
     "execution_count": 16,
     "metadata": {},
     "output_type": "execute_result"
    },
    {
     "data": {
      "image/png": "[encoded data removed]",
      "text/plain": [
       "<Figure size 432x288 with 1 Axes>"
      ]
     },
     "metadata": {
      "needs_background": "light"
     },
     "output_type": "display_data"
    }
   ],
   "source": [
    "df.plot(\"time\",\"x\",kind = \"line\")"
   ]
  },
  {
   "cell_type": "code",
   "execution_count": 17,
   "metadata": {
    "executionInfo": {
     "elapsed": 520,
     "status": "ok",
     "timestamp": 1622370909351,
     "user": {
      "displayName": "Naufaldi Firmansyah",
      "photoUrl": "https://lh3.googleusercontent.com/a-/AOh14GhWBxoM-GBbgOnPcuoLLqxnfigbD5bt-5vNTQuN=s64",
      "userId": "02968713243736977198"
     },
     "user_tz": -120
    },
    "id": "dbtKvZAkLS7G"
   },
   "outputs": [],
   "source": [
    "df_focus = df[(df.time > 1.177) & (df.time <= 1.2071)]"
   ]
  },
  {
   "cell_type": "code",
   "execution_count": 18,
   "metadata": {
    "colab": {
     "base_uri": "https://localhost:8080/",
     "height": 269
    },
    "executionInfo": {
     "elapsed": 1059,
     "status": "ok",
     "timestamp": 1622370913895,
     "user": {
      "displayName": "Naufaldi Firmansyah",
      "photoUrl": "https://lh3.googleusercontent.com/a-/AOh14GhWBxoM-GBbgOnPcuoLLqxnfigbD5bt-5vNTQuN=s64",
      "userId": "02968713243736977198"
     },
     "user_tz": -120
    },
    "id": "zAR96fRCNF65",
    "outputId": "a3d49841-f439-4463-ca0e-6d9f3981f86b"
   },
   "outputs": [
    {
     "data": {
      "text/plain": [
       "<AxesSubplot:xlabel='time', ylabel='x-position'>"
      ]
     },
     "execution_count": 18,
     "metadata": {},
     "output_type": "execute_result"
    },
    {
     "data": {
      "image/png": "[encoded data removed]",
      "text/plain": [
       "<Figure size 2160x360 with 1 Axes>"
      ]
     },
     "metadata": {
      "needs_background": "light"
     },
     "output_type": "display_data"
    }
   ],
   "source": [
    "df_focus.plot(\"time\",\"x\",kind = \"line\",figsize = (30,5),xlabel = \"time\", ylabel = \"x-position\", fontsize = 25)"
   ]
  },
  {
   "cell_type": "code",
   "execution_count": 19,
   "metadata": {},
   "outputs": [
    {
     "data": {
      "text/html": [
       "<div>\n",
       "<style scoped>\n",
       "    .dataframe tbody tr th:only-of-type {\n",
       "        vertical-align: middle;\n",
       "    }\n",
       "\n",
       "    .dataframe tbody tr th {\n",
       "        vertical-align: top;\n",
       "    }\n",
       "\n",
       "    .dataframe thead th {\n",
       "        text-align: right;\n",
       "    }\n",
       "</style>\n",
       "<table border=\"1\" class=\"dataframe\">\n",
       "  <thead>\n",
       "    <tr style=\"text-align: right;\">\n",
       "      <th></th>\n",
       "      <th>time</th>\n",
       "      <th>x</th>\n",
       "      <th>y</th>\n",
       "      <th>photo current total</th>\n",
       "      <th>photo background total</th>\n",
       "    </tr>\n",
       "  </thead>\n",
       "  <tbody>\n",
       "    <tr>\n",
       "      <th>42066</th>\n",
       "      <td>1.177006</td>\n",
       "      <td>-0.437375</td>\n",
       "      <td>0.797069</td>\n",
       "      <td>5.664149</td>\n",
       "      <td>4.029908</td>\n",
       "    </tr>\n",
       "    <tr>\n",
       "      <th>42067</th>\n",
       "      <td>1.177034</td>\n",
       "      <td>-0.469492</td>\n",
       "      <td>0.799345</td>\n",
       "      <td>5.664149</td>\n",
       "      <td>4.029908</td>\n",
       "    </tr>\n",
       "    <tr>\n",
       "      <th>42068</th>\n",
       "      <td>1.177062</td>\n",
       "      <td>-0.499249</td>\n",
       "      <td>0.825718</td>\n",
       "      <td>5.664149</td>\n",
       "      <td>4.029908</td>\n",
       "    </tr>\n",
       "    <tr>\n",
       "      <th>42069</th>\n",
       "      <td>1.177090</td>\n",
       "      <td>-0.499957</td>\n",
       "      <td>0.860173</td>\n",
       "      <td>5.664149</td>\n",
       "      <td>4.029908</td>\n",
       "    </tr>\n",
       "    <tr>\n",
       "      <th>42070</th>\n",
       "      <td>1.177118</td>\n",
       "      <td>-0.532870</td>\n",
       "      <td>0.865039</td>\n",
       "      <td>5.664149</td>\n",
       "      <td>4.029908</td>\n",
       "    </tr>\n",
       "    <tr>\n",
       "      <th>...</th>\n",
       "      <td>...</td>\n",
       "      <td>...</td>\n",
       "      <td>...</td>\n",
       "      <td>...</td>\n",
       "      <td>...</td>\n",
       "    </tr>\n",
       "    <tr>\n",
       "      <th>43137</th>\n",
       "      <td>1.206973</td>\n",
       "      <td>-0.597796</td>\n",
       "      <td>0.338479</td>\n",
       "      <td>5.627528</td>\n",
       "      <td>4.029908</td>\n",
       "    </tr>\n",
       "    <tr>\n",
       "      <th>43138</th>\n",
       "      <td>1.207001</td>\n",
       "      <td>-0.627079</td>\n",
       "      <td>0.309585</td>\n",
       "      <td>5.627528</td>\n",
       "      <td>4.029908</td>\n",
       "    </tr>\n",
       "    <tr>\n",
       "      <th>43139</th>\n",
       "      <td>1.207029</td>\n",
       "      <td>-0.592129</td>\n",
       "      <td>0.400158</td>\n",
       "      <td>5.627528</td>\n",
       "      <td>4.029908</td>\n",
       "    </tr>\n",
       "    <tr>\n",
       "      <th>43140</th>\n",
       "      <td>1.207057</td>\n",
       "      <td>-0.631122</td>\n",
       "      <td>0.381826</td>\n",
       "      <td>5.505455</td>\n",
       "      <td>4.029908</td>\n",
       "    </tr>\n",
       "    <tr>\n",
       "      <th>43141</th>\n",
       "      <td>1.207085</td>\n",
       "      <td>-0.603412</td>\n",
       "      <td>0.445513</td>\n",
       "      <td>5.505455</td>\n",
       "      <td>4.029908</td>\n",
       "    </tr>\n",
       "  </tbody>\n",
       "</table>\n",
       "<p>1076 rows × 5 columns</p>\n",
       "</div>"
      ],
      "text/plain": [
       "           time         x         y  photo current total  \\\n",
       "42066  1.177006 -0.437375  0.797069             5.664149   \n",
       "42067  1.177034 -0.469492  0.799345             5.664149   \n",
       "42068  1.177062 -0.499249  0.825718             5.664149   \n",
       "42069  1.177090 -0.499957  0.860173             5.664149   \n",
       "42070  1.177118 -0.532870  0.865039             5.664149   \n",
       "...         ...       ...       ...                  ...   \n",
       "43137  1.206973 -0.597796  0.338479             5.627528   \n",
       "43138  1.207001 -0.627079  0.309585             5.627528   \n",
       "43139  1.207029 -0.592129  0.400158             5.627528   \n",
       "43140  1.207057 -0.631122  0.381826             5.505455   \n",
       "43141  1.207085 -0.603412  0.445513             5.505455   \n",
       "\n",
       "       photo background total  \n",
       "42066                4.029908  \n",
       "42067                4.029908  \n",
       "42068                4.029908  \n",
       "42069                4.029908  \n",
       "42070                4.029908  \n",
       "...                       ...  \n",
       "43137                4.029908  \n",
       "43138                4.029908  \n",
       "43139                4.029908  \n",
       "43140                4.029908  \n",
       "43141                4.029908  \n",
       "\n",
       "[1076 rows x 5 columns]"
      ]
     },
     "execution_count": 19,
     "metadata": {},
     "output_type": "execute_result"
    }
   ],
   "source": [
    "#df_focus[\"diff_time\"] = df_focus.time.diff()\n",
    "df_focus"
   ]
  },
  {
   "cell_type": "code",
   "execution_count": 20,
   "metadata": {},
   "outputs": [
    {
     "data": {
      "text/plain": [
       "<AxesSubplot:xlabel='time'>"
      ]
     },
     "execution_count": 20,
     "metadata": {},
     "output_type": "execute_result"
    },
    {
     "data": {
      "image/png": "[encoded data removed]",
      "text/plain": [
       "<Figure size 432x288 with 1 Axes>"
      ]
     },
     "metadata": {
      "needs_background": "light"
     },
     "output_type": "display_data"
    }
   ],
   "source": [
    "df_beginn = df_focus[(df_focus.time > 1.18) & (df_focus.time < 1.181)] \n",
    "df_beginn.plot(\"time\",\"x\", kind = \"line\")"
   ]
  },
  {
   "cell_type": "code",
   "execution_count": 21,
   "metadata": {},
   "outputs": [
    {
     "data": {
      "text/plain": [
       "-0.6048852205276489"
      ]
     },
     "execution_count": 21,
     "metadata": {},
     "output_type": "execute_result"
    }
   ],
   "source": [
    "df_beginn.x.min()"
   ]
  },
  {
   "cell_type": "code",
   "execution_count": 22,
   "metadata": {},
   "outputs": [
    {
     "data": {
      "text/html": [
       "<div>\n",
       "<style scoped>\n",
       "    .dataframe tbody tr th:only-of-type {\n",
       "        vertical-align: middle;\n",
       "    }\n",
       "\n",
       "    .dataframe tbody tr th {\n",
       "        vertical-align: top;\n",
       "    }\n",
       "\n",
       "    .dataframe thead th {\n",
       "        text-align: right;\n",
       "    }\n",
       "</style>\n",
       "<table border=\"1\" class=\"dataframe\">\n",
       "  <thead>\n",
       "    <tr style=\"text-align: right;\">\n",
       "      <th></th>\n",
       "      <th>time</th>\n",
       "      <th>x</th>\n",
       "      <th>y</th>\n",
       "      <th>photo current total</th>\n",
       "      <th>photo background total</th>\n",
       "    </tr>\n",
       "  </thead>\n",
       "  <tbody>\n",
       "    <tr>\n",
       "      <th>42182</th>\n",
       "      <td>1.180252</td>\n",
       "      <td>-0.604885</td>\n",
       "      <td>0.916796</td>\n",
       "      <td>5.673305</td>\n",
       "      <td>4.029908</td>\n",
       "    </tr>\n",
       "  </tbody>\n",
       "</table>\n",
       "</div>"
      ],
      "text/plain": [
       "           time         x         y  photo current total  \\\n",
       "42182  1.180252 -0.604885  0.916796             5.673305   \n",
       "\n",
       "       photo background total  \n",
       "42182                4.029908  "
      ]
     },
     "execution_count": 22,
     "metadata": {},
     "output_type": "execute_result"
    }
   ],
   "source": [
    "df_beginn.loc[(df_beginn.x>-0.605) & (df_beginn.x<-0.603),: ]"
   ]
  },
  {
   "cell_type": "code",
   "execution_count": 23,
   "metadata": {},
   "outputs": [
    {
     "data": {
      "text/plain": [
       "<AxesSubplot:xlabel='time'>"
      ]
     },
     "execution_count": 23,
     "metadata": {},
     "output_type": "execute_result"
    },
    {
     "data": {
      "image/png": "[encoded data removed]",
      "text/plain": [
       "<Figure size 432x288 with 1 Axes>"
      ]
     },
     "metadata": {
      "needs_background": "light"
     },
     "output_type": "display_data"
    }
   ],
   "source": [
    "df_ende = df_focus[(df_focus.time > 1.203) & (df_focus.time < 1.205)] \n",
    "df_ende.plot(\"time\",\"x\", kind = \"line\")"
   ]
  },
  {
   "cell_type": "code",
   "execution_count": 24,
   "metadata": {},
   "outputs": [
    {
     "data": {
      "text/plain": [
       "-0.586593806743622"
      ]
     },
     "execution_count": 24,
     "metadata": {},
     "output_type": "execute_result"
    }
   ],
   "source": [
    "df_ende.x.min()"
   ]
  },
  {
   "cell_type": "markdown",
   "metadata": {},
   "source": [
    "### todo"
   ]
  },
  {
   "cell_type": "code",
   "execution_count": 25,
   "metadata": {},
   "outputs": [
    {
     "ename": "IndexingError",
     "evalue": "Unalignable boolean Series provided as indexer (index of the boolean Series and of the indexed object do not match).",
     "output_type": "error",
     "traceback": [
      "\u001b[1;31m---------------------------------------------------------------------------\u001b[0m",
      "\u001b[1;31mIndexingError\u001b[0m                             Traceback (most recent call last)",
      "\u001b[1;32m<ipython-input-25-6e05b68b33ef>\u001b[0m in \u001b[0;36m<module>\u001b[1;34m\u001b[0m\n\u001b[1;32m----> 1\u001b[1;33m \u001b[0mdf_ende\u001b[0m\u001b[1;33m.\u001b[0m\u001b[0mloc\u001b[0m\u001b[1;33m[\u001b[0m\u001b[1;33m(\u001b[0m\u001b[0mdf_beginn\u001b[0m\u001b[1;33m.\u001b[0m\u001b[0mx\u001b[0m\u001b[1;33m>\u001b[0m\u001b[1;33m-\u001b[0m\u001b[1;36m0.605\u001b[0m\u001b[1;33m)\u001b[0m \u001b[1;33m&\u001b[0m \u001b[1;33m(\u001b[0m\u001b[0mdf_beginn\u001b[0m\u001b[1;33m.\u001b[0m\u001b[0mx\u001b[0m\u001b[1;33m<\u001b[0m\u001b[1;33m-\u001b[0m\u001b[1;36m0.603\u001b[0m\u001b[1;33m)\u001b[0m\u001b[1;33m,\u001b[0m\u001b[1;33m:\u001b[0m \u001b[1;33m]\u001b[0m\u001b[1;33m\u001b[0m\u001b[1;33m\u001b[0m\u001b[0m\n\u001b[0m",
      "\u001b[1;32m~\\anaconda3\\lib\\site-packages\\pandas\\core\\indexing.py\u001b[0m in \u001b[0;36m__getitem__\u001b[1;34m(self, key)\u001b[0m\n\u001b[0;32m    871\u001b[0m                     \u001b[1;31m# AttributeError for IntervalTree get_value\u001b[0m\u001b[1;33m\u001b[0m\u001b[1;33m\u001b[0m\u001b[1;33m\u001b[0m\u001b[0m\n\u001b[0;32m    872\u001b[0m                     \u001b[1;32mpass\u001b[0m\u001b[1;33m\u001b[0m\u001b[1;33m\u001b[0m\u001b[0m\n\u001b[1;32m--> 873\u001b[1;33m             \u001b[1;32mreturn\u001b[0m \u001b[0mself\u001b[0m\u001b[1;33m.\u001b[0m\u001b[0m_getitem_tuple\u001b[0m\u001b[1;33m(\u001b[0m\u001b[0mkey\u001b[0m\u001b[1;33m)\u001b[0m\u001b[1;33m\u001b[0m\u001b[1;33m\u001b[0m\u001b[0m\n\u001b[0m\u001b[0;32m    874\u001b[0m         \u001b[1;32melse\u001b[0m\u001b[1;33m:\u001b[0m\u001b[1;33m\u001b[0m\u001b[1;33m\u001b[0m\u001b[0m\n\u001b[0;32m    875\u001b[0m             \u001b[1;31m# we by definition only have the 0th axis\u001b[0m\u001b[1;33m\u001b[0m\u001b[1;33m\u001b[0m\u001b[1;33m\u001b[0m\u001b[0m\n",
      "\u001b[1;32m~\\anaconda3\\lib\\site-packages\\pandas\\core\\indexing.py\u001b[0m in \u001b[0;36m_getitem_tuple\u001b[1;34m(self, tup)\u001b[0m\n\u001b[0;32m   1053\u001b[0m             \u001b[1;32mreturn\u001b[0m \u001b[0mself\u001b[0m\u001b[1;33m.\u001b[0m\u001b[0m_multi_take\u001b[0m\u001b[1;33m(\u001b[0m\u001b[0mtup\u001b[0m\u001b[1;33m)\u001b[0m\u001b[1;33m\u001b[0m\u001b[1;33m\u001b[0m\u001b[0m\n\u001b[0;32m   1054\u001b[0m \u001b[1;33m\u001b[0m\u001b[0m\n\u001b[1;32m-> 1055\u001b[1;33m         \u001b[1;32mreturn\u001b[0m \u001b[0mself\u001b[0m\u001b[1;33m.\u001b[0m\u001b[0m_getitem_tuple_same_dim\u001b[0m\u001b[1;33m(\u001b[0m\u001b[0mtup\u001b[0m\u001b[1;33m)\u001b[0m\u001b[1;33m\u001b[0m\u001b[1;33m\u001b[0m\u001b[0m\n\u001b[0m\u001b[0;32m   1056\u001b[0m \u001b[1;33m\u001b[0m\u001b[0m\n\u001b[0;32m   1057\u001b[0m     \u001b[1;32mdef\u001b[0m \u001b[0m_get_label\u001b[0m\u001b[1;33m(\u001b[0m\u001b[0mself\u001b[0m\u001b[1;33m,\u001b[0m \u001b[0mlabel\u001b[0m\u001b[1;33m,\u001b[0m \u001b[0maxis\u001b[0m\u001b[1;33m:\u001b[0m \u001b[0mint\u001b[0m\u001b[1;33m)\u001b[0m\u001b[1;33m:\u001b[0m\u001b[1;33m\u001b[0m\u001b[1;33m\u001b[0m\u001b[0m\n",
      "\u001b[1;32m~\\anaconda3\\lib\\site-packages\\pandas\\core\\indexing.py\u001b[0m in \u001b[0;36m_getitem_tuple_same_dim\u001b[1;34m(self, tup)\u001b[0m\n\u001b[0;32m    748\u001b[0m                 \u001b[1;32mcontinue\u001b[0m\u001b[1;33m\u001b[0m\u001b[1;33m\u001b[0m\u001b[0m\n\u001b[0;32m    749\u001b[0m \u001b[1;33m\u001b[0m\u001b[0m\n\u001b[1;32m--> 750\u001b[1;33m             \u001b[0mretval\u001b[0m \u001b[1;33m=\u001b[0m \u001b[0mgetattr\u001b[0m\u001b[1;33m(\u001b[0m\u001b[0mretval\u001b[0m\u001b[1;33m,\u001b[0m \u001b[0mself\u001b[0m\u001b[1;33m.\u001b[0m\u001b[0mname\u001b[0m\u001b[1;33m)\u001b[0m\u001b[1;33m.\u001b[0m\u001b[0m_getitem_axis\u001b[0m\u001b[1;33m(\u001b[0m\u001b[0mkey\u001b[0m\u001b[1;33m,\u001b[0m \u001b[0maxis\u001b[0m\u001b[1;33m=\u001b[0m\u001b[0mi\u001b[0m\u001b[1;33m)\u001b[0m\u001b[1;33m\u001b[0m\u001b[1;33m\u001b[0m\u001b[0m\n\u001b[0m\u001b[0;32m    751\u001b[0m             \u001b[1;31m# We should never have retval.ndim < self.ndim, as that should\u001b[0m\u001b[1;33m\u001b[0m\u001b[1;33m\u001b[0m\u001b[1;33m\u001b[0m\u001b[0m\n\u001b[0;32m    752\u001b[0m             \u001b[1;31m#  be handled by the _getitem_lowerdim call above.\u001b[0m\u001b[1;33m\u001b[0m\u001b[1;33m\u001b[0m\u001b[1;33m\u001b[0m\u001b[0m\n",
      "\u001b[1;32m~\\anaconda3\\lib\\site-packages\\pandas\\core\\indexing.py\u001b[0m in \u001b[0;36m_getitem_axis\u001b[1;34m(self, key, axis)\u001b[0m\n\u001b[0;32m   1088\u001b[0m             \u001b[1;32mreturn\u001b[0m \u001b[0mself\u001b[0m\u001b[1;33m.\u001b[0m\u001b[0m_get_slice_axis\u001b[0m\u001b[1;33m(\u001b[0m\u001b[0mkey\u001b[0m\u001b[1;33m,\u001b[0m \u001b[0maxis\u001b[0m\u001b[1;33m=\u001b[0m\u001b[0maxis\u001b[0m\u001b[1;33m)\u001b[0m\u001b[1;33m\u001b[0m\u001b[1;33m\u001b[0m\u001b[0m\n\u001b[0;32m   1089\u001b[0m         \u001b[1;32melif\u001b[0m \u001b[0mcom\u001b[0m\u001b[1;33m.\u001b[0m\u001b[0mis_bool_indexer\u001b[0m\u001b[1;33m(\u001b[0m\u001b[0mkey\u001b[0m\u001b[1;33m)\u001b[0m\u001b[1;33m:\u001b[0m\u001b[1;33m\u001b[0m\u001b[1;33m\u001b[0m\u001b[0m\n\u001b[1;32m-> 1090\u001b[1;33m             \u001b[1;32mreturn\u001b[0m \u001b[0mself\u001b[0m\u001b[1;33m.\u001b[0m\u001b[0m_getbool_axis\u001b[0m\u001b[1;33m(\u001b[0m\u001b[0mkey\u001b[0m\u001b[1;33m,\u001b[0m \u001b[0maxis\u001b[0m\u001b[1;33m=\u001b[0m\u001b[0maxis\u001b[0m\u001b[1;33m)\u001b[0m\u001b[1;33m\u001b[0m\u001b[1;33m\u001b[0m\u001b[0m\n\u001b[0m\u001b[0;32m   1091\u001b[0m         \u001b[1;32melif\u001b[0m \u001b[0mis_list_like_indexer\u001b[0m\u001b[1;33m(\u001b[0m\u001b[0mkey\u001b[0m\u001b[1;33m)\u001b[0m\u001b[1;33m:\u001b[0m\u001b[1;33m\u001b[0m\u001b[1;33m\u001b[0m\u001b[0m\n\u001b[0;32m   1092\u001b[0m \u001b[1;33m\u001b[0m\u001b[0m\n",
      "\u001b[1;32m~\\anaconda3\\lib\\site-packages\\pandas\\core\\indexing.py\u001b[0m in \u001b[0;36m_getbool_axis\u001b[1;34m(self, key, axis)\u001b[0m\n\u001b[0;32m    894\u001b[0m         \u001b[1;31m# caller is responsible for ensuring non-None axis\u001b[0m\u001b[1;33m\u001b[0m\u001b[1;33m\u001b[0m\u001b[1;33m\u001b[0m\u001b[0m\n\u001b[0;32m    895\u001b[0m         \u001b[0mlabels\u001b[0m \u001b[1;33m=\u001b[0m \u001b[0mself\u001b[0m\u001b[1;33m.\u001b[0m\u001b[0mobj\u001b[0m\u001b[1;33m.\u001b[0m\u001b[0m_get_axis\u001b[0m\u001b[1;33m(\u001b[0m\u001b[0maxis\u001b[0m\u001b[1;33m)\u001b[0m\u001b[1;33m\u001b[0m\u001b[1;33m\u001b[0m\u001b[0m\n\u001b[1;32m--> 896\u001b[1;33m         \u001b[0mkey\u001b[0m \u001b[1;33m=\u001b[0m \u001b[0mcheck_bool_indexer\u001b[0m\u001b[1;33m(\u001b[0m\u001b[0mlabels\u001b[0m\u001b[1;33m,\u001b[0m \u001b[0mkey\u001b[0m\u001b[1;33m)\u001b[0m\u001b[1;33m\u001b[0m\u001b[1;33m\u001b[0m\u001b[0m\n\u001b[0m\u001b[0;32m    897\u001b[0m         \u001b[0minds\u001b[0m \u001b[1;33m=\u001b[0m \u001b[0mkey\u001b[0m\u001b[1;33m.\u001b[0m\u001b[0mnonzero\u001b[0m\u001b[1;33m(\u001b[0m\u001b[1;33m)\u001b[0m\u001b[1;33m[\u001b[0m\u001b[1;36m0\u001b[0m\u001b[1;33m]\u001b[0m\u001b[1;33m\u001b[0m\u001b[1;33m\u001b[0m\u001b[0m\n\u001b[0;32m    898\u001b[0m         \u001b[1;32mreturn\u001b[0m \u001b[0mself\u001b[0m\u001b[1;33m.\u001b[0m\u001b[0mobj\u001b[0m\u001b[1;33m.\u001b[0m\u001b[0m_take_with_is_copy\u001b[0m\u001b[1;33m(\u001b[0m\u001b[0minds\u001b[0m\u001b[1;33m,\u001b[0m \u001b[0maxis\u001b[0m\u001b[1;33m=\u001b[0m\u001b[0maxis\u001b[0m\u001b[1;33m)\u001b[0m\u001b[1;33m\u001b[0m\u001b[1;33m\u001b[0m\u001b[0m\n",
      "\u001b[1;32m~\\anaconda3\\lib\\site-packages\\pandas\\core\\indexing.py\u001b[0m in \u001b[0;36mcheck_bool_indexer\u001b[1;34m(index, key)\u001b[0m\n\u001b[0;32m   2182\u001b[0m         \u001b[0mmask\u001b[0m \u001b[1;33m=\u001b[0m \u001b[0misna\u001b[0m\u001b[1;33m(\u001b[0m\u001b[0mresult\u001b[0m\u001b[1;33m.\u001b[0m\u001b[0m_values\u001b[0m\u001b[1;33m)\u001b[0m\u001b[1;33m\u001b[0m\u001b[1;33m\u001b[0m\u001b[0m\n\u001b[0;32m   2183\u001b[0m         \u001b[1;32mif\u001b[0m \u001b[0mmask\u001b[0m\u001b[1;33m.\u001b[0m\u001b[0many\u001b[0m\u001b[1;33m(\u001b[0m\u001b[1;33m)\u001b[0m\u001b[1;33m:\u001b[0m\u001b[1;33m\u001b[0m\u001b[1;33m\u001b[0m\u001b[0m\n\u001b[1;32m-> 2184\u001b[1;33m             raise IndexingError(\n\u001b[0m\u001b[0;32m   2185\u001b[0m                 \u001b[1;34m\"Unalignable boolean Series provided as \"\u001b[0m\u001b[1;33m\u001b[0m\u001b[1;33m\u001b[0m\u001b[0m\n\u001b[0;32m   2186\u001b[0m                 \u001b[1;34m\"indexer (index of the boolean Series and of \"\u001b[0m\u001b[1;33m\u001b[0m\u001b[1;33m\u001b[0m\u001b[0m\n",
      "\u001b[1;31mIndexingError\u001b[0m: Unalignable boolean Series provided as indexer (index of the boolean Series and of the indexed object do not match)."
     ]
    }
   ],
   "source": [
    "df_ende.loc[(df_beginn.x>-0.605) & (df_beginn.x<-0.603),: ]"
   ]
  },
  {
   "cell_type": "code",
   "execution_count": null,
   "metadata": {
    "colab": {
     "base_uri": "https://localhost:8080/",
     "height": 148
    },
    "executionInfo": {
     "elapsed": 529,
     "status": "ok",
     "timestamp": 1622372341980,
     "user": {
      "displayName": "Naufaldi Firmansyah",
      "photoUrl": "https://lh3.googleusercontent.com/a-/AOh14GhWBxoM-GBbgOnPcuoLLqxnfigbD5bt-5vNTQuN=s64",
      "userId": "02968713243736977198"
     },
     "user_tz": -120
    },
    "id": "bLzaIIHP0SdU",
    "outputId": "ed9fe086-b9c3-42b0-e85a-2f1a14b375e8"
   },
   "outputs": [],
   "source": [
    "df_near_zero = df_focus[abs(df_focus[\"x\"] - 0<0.01]\n",
    "df_near_zero[\"diff_time_near_zero\"] = df_near_zero.time.diff()\n",
    "df_near_zero.head(15)"
   ]
  },
  {
   "cell_type": "code",
   "execution_count": null,
   "metadata": {},
   "outputs": [],
   "source": [
    "df_near_zero.shape"
   ]
  },
  {
   "cell_type": "code",
   "execution_count": null,
   "metadata": {},
   "outputs": [],
   "source": [
    "df_near_zero_time = df_near_zero[df_near_zero.diff_time_near_zero > 0.0001]\n",
    "df_near_zero_time.shape"
   ]
  },
  {
   "cell_type": "code",
   "execution_count": null,
   "metadata": {
    "colab": {
     "base_uri": "https://localhost:8080/",
     "height": 283
    },
    "executionInfo": {
     "elapsed": 866,
     "status": "ok",
     "timestamp": 1622373923292,
     "user": {
      "displayName": "Naufaldi Firmansyah",
      "photoUrl": "https://lh3.googleusercontent.com/a-/AOh14GhWBxoM-GBbgOnPcuoLLqxnfigbD5bt-5vNTQuN=s64",
      "userId": "02968713243736977198"
     },
     "user_tz": -120
    },
    "id": "n0t-vgKG5Bbr",
    "outputId": "547b1c8b-7d50-4ce9-c1fa-8d47623db2b2"
   },
   "outputs": [],
   "source": [
    "fig = plt.figure(figsize=(40,5))\n",
    "plt.scatter(df_near_zero_time[\"time\"], df_near_zero_time[\"x\"], color = \"red\")\n",
    "plt.plot(df_focus.time, df_focus.x)\n",
    "#plt.figure(figsize=(40,5),dpi = 100)\n",
    "#plt.savefig(\"data_test2.png\")\n",
    "plt.show()\n",
    "\n",
    "fig.savefig(\"data_final.png\")"
   ]
  },
  {
   "cell_type": "code",
   "execution_count": null,
   "metadata": {
    "colab": {
     "base_uri": "https://localhost:8080/",
     "height": 283
    },
    "executionInfo": {
     "elapsed": 677,
     "status": "ok",
     "timestamp": 1622375279407,
     "user": {
      "displayName": "Naufaldi Firmansyah",
      "photoUrl": "https://lh3.googleusercontent.com/a-/AOh14GhWBxoM-GBbgOnPcuoLLqxnfigbD5bt-5vNTQuN=s64",
      "userId": "02968713243736977198"
     },
     "user_tz": -120
    },
    "id": "GvsESGh1CR0T",
    "outputId": "1d1ba4ff-3e2e-438b-fdf9-278e4cae3295"
   },
   "outputs": [],
   "source": [
    "plt.plot(df_near_zero[\"time\"], df_near_zero[\"x\"], color = \"red\",marker = \"o\")\n",
    "plt.plot(df_focus.time, df_focus.x)\n",
    "plt.figure(figsize=(10,3), dpi = 100)\n",
    "plt.savefig(\"data4.png\")\n",
    "plt.show()"
   ]
  },
  {
   "cell_type": "code",
   "execution_count": null,
   "metadata": {
    "id": "32lIpBS_9p4D"
   },
   "outputs": [],
   "source": [
    "plt.scatter()"
   ]
  },
  {
   "cell_type": "code",
   "execution_count": null,
   "metadata": {
    "colab": {
     "base_uri": "https://localhost:8080/",
     "height": 537
    },
    "executionInfo": {
     "elapsed": 1064,
     "status": "error",
     "timestamp": 1622372212146,
     "user": {
      "displayName": "Naufaldi Firmansyah",
      "photoUrl": "https://lh3.googleusercontent.com/a-/AOh14GhWBxoM-GBbgOnPcuoLLqxnfigbD5bt-5vNTQuN=s64",
      "userId": "02968713243736977198"
     },
     "user_tz": -120
    },
    "id": "2BhF3cfm5Kc5",
    "outputId": "3840c394-0cb4-4401-ab91-212c50f5577f"
   },
   "outputs": [],
   "source": [
    "plt.plot(\"time\",\"x\",kind = \"line\",figsize = (30,5),xlabel = \"time\", ylabel = \"x-position\", fontsize = 25)\n",
    "df_near_zero.plot( kind = \"scatter\", x = \"time\", y = \"x\", figsize = (30,5), data = df_near_zero)\n",
    "plt.show()"
   ]
  },
  {
   "cell_type": "code",
   "execution_count": null,
   "metadata": {},
   "outputs": [],
   "source": [
    "plt.plot()"
   ]
  }
 ],
 "metadata": {
  "colab": {
   "authorship_tag": "ABX9TyOG13otLJ1hlQjY5p6tPetA",
   "collapsed_sections": [],
   "name": "Fikril_BA.ipynb",
   "provenance": []
  },
  "kernelspec": {
   "display_name": "Python 3",
   "language": "python",
   "name": "python3"
  },
  "language_info": {
   "codemirror_mode": {
    "name": "ipython",
    "version": 3
   },
   "file_extension": ".py",
   "mimetype": "text/x-python",
   "name": "python",
   "nbconvert_exporter": "python",
   "pygments_lexer": "ipython3",
   "version": "3.8.5"
  }
 },
 "nbformat": 4,
 "nbformat_minor": 4
}
